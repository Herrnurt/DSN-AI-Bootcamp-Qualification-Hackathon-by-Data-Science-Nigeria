{
 "cells": [
  {
   "cell_type": "markdown",
   "metadata": {},
   "source": [
    "# Zindi Online Challenge\n",
    "https://zindi.africa/hackathons/dsn-pre-bootcamp-hackathon-expresso-churn-prediction-challenge/submissions"
   ]
  },
  {
   "cell_type": "markdown",
   "metadata": {},
   "source": [
    "## Problem Preparation"
   ]
  },
  {
   "cell_type": "markdown",
   "metadata": {},
   "source": [
    "#### 1. Libraries\n"
   ]
  },
  {
   "cell_type": "code",
   "execution_count": 1,
   "metadata": {},
   "outputs": [],
   "source": [
    "%matplotlib inline\n",
    "import numpy as np\n",
    "import pandas as pd\n",
    "import seaborn as sns\n",
    "from sklearn import metrics\n",
    "import matplotlib.pyplot as plt\n",
    "\n",
    "from sklearn.metrics import roc_auc_score\n",
    "from catboost import CatBoostClassifier\n",
    "\n",
    "from sklearn.model_selection import (GridSearchCV, cross_val_score,cross_val_predict,StratifiedKFold,learning_curve)\n",
    "import xgboost as xgb\n",
    "\n"
   ]
  },
  {
   "cell_type": "code",
   "execution_count": 2,
   "metadata": {},
   "outputs": [],
   "source": [
    "import warnings\n",
    "warnings.filterwarnings(\"ignore\")\n",
    "%matplotlib inline\n",
    "sns.set_style(\"whitegrid\")\n",
    "sns.set(rc={\"figure.figsize\":(10,6)})"
   ]
  },
  {
   "cell_type": "markdown",
   "metadata": {},
   "source": [
    "#### 2. Dataset"
   ]
  },
  {
   "cell_type": "code",
   "execution_count": 3,
   "metadata": {},
   "outputs": [],
   "source": [
    "train = pd.read_csv('Train.csv')\n",
    "test = pd.read_csv('Test.csv')\n",
    "SampleSubmission= pd.read_csv('SampleSubmission.csv')"
   ]
  },
  {
   "cell_type": "markdown",
   "metadata": {},
   "source": [
    "## Data summary"
   ]
  },
  {
   "cell_type": "markdown",
   "metadata": {},
   "source": [
    "#### 1. Descriptive Statistics"
   ]
  },
  {
   "cell_type": "code",
   "execution_count": 4,
   "metadata": {},
   "outputs": [
    {
     "data": {
      "text/plain": [
       "(56000, 52)"
      ]
     },
     "execution_count": 4,
     "metadata": {},
     "output_type": "execute_result"
    }
   ],
   "source": [
    "train.shape"
   ]
  },
  {
   "cell_type": "code",
   "execution_count": 5,
   "metadata": {},
   "outputs": [
    {
     "data": {
      "text/html": [
       "<div>\n",
       "<style scoped>\n",
       "    .dataframe tbody tr th:only-of-type {\n",
       "        vertical-align: middle;\n",
       "    }\n",
       "\n",
       "    .dataframe tbody tr th {\n",
       "        vertical-align: top;\n",
       "    }\n",
       "\n",
       "    .dataframe thead th {\n",
       "        text-align: right;\n",
       "    }\n",
       "</style>\n",
       "<table border=\"1\" class=\"dataframe\">\n",
       "  <thead>\n",
       "    <tr style=\"text-align: right;\">\n",
       "      <th></th>\n",
       "      <th>Applicant_ID</th>\n",
       "      <th>form_field1</th>\n",
       "      <th>form_field2</th>\n",
       "      <th>form_field3</th>\n",
       "      <th>form_field4</th>\n",
       "      <th>form_field5</th>\n",
       "      <th>form_field6</th>\n",
       "      <th>form_field7</th>\n",
       "      <th>form_field8</th>\n",
       "      <th>form_field9</th>\n",
       "      <th>...</th>\n",
       "      <th>form_field42</th>\n",
       "      <th>form_field43</th>\n",
       "      <th>form_field44</th>\n",
       "      <th>form_field45</th>\n",
       "      <th>form_field46</th>\n",
       "      <th>form_field47</th>\n",
       "      <th>form_field48</th>\n",
       "      <th>form_field49</th>\n",
       "      <th>form_field50</th>\n",
       "      <th>default_status</th>\n",
       "    </tr>\n",
       "  </thead>\n",
       "  <tbody>\n",
       "    <tr>\n",
       "      <th>0</th>\n",
       "      <td>Apcnt_1000000</td>\n",
       "      <td>3436.0</td>\n",
       "      <td>0.28505</td>\n",
       "      <td>1.6560</td>\n",
       "      <td>0.0</td>\n",
       "      <td>0.000</td>\n",
       "      <td>0.0</td>\n",
       "      <td>10689720.0</td>\n",
       "      <td>252072.0</td>\n",
       "      <td>4272776.0</td>\n",
       "      <td>...</td>\n",
       "      <td>0.392854</td>\n",
       "      <td>2.02</td>\n",
       "      <td>0.711632</td>\n",
       "      <td>0.0</td>\n",
       "      <td>0.0</td>\n",
       "      <td>charge</td>\n",
       "      <td>NaN</td>\n",
       "      <td>1.129518</td>\n",
       "      <td>0.044335</td>\n",
       "      <td>no</td>\n",
       "    </tr>\n",
       "    <tr>\n",
       "      <th>1</th>\n",
       "      <td>Apcnt_1000004</td>\n",
       "      <td>3456.0</td>\n",
       "      <td>0.67400</td>\n",
       "      <td>0.2342</td>\n",
       "      <td>0.0</td>\n",
       "      <td>0.000</td>\n",
       "      <td>0.0</td>\n",
       "      <td>898979.0</td>\n",
       "      <td>497531.0</td>\n",
       "      <td>9073814.0</td>\n",
       "      <td>...</td>\n",
       "      <td>0.314281</td>\n",
       "      <td>8.08</td>\n",
       "      <td>0.183584</td>\n",
       "      <td>NaN</td>\n",
       "      <td>0.0</td>\n",
       "      <td>charge</td>\n",
       "      <td>349.805730</td>\n",
       "      <td>1.620483</td>\n",
       "      <td>0.322436</td>\n",
       "      <td>no</td>\n",
       "    </tr>\n",
       "    <tr>\n",
       "      <th>2</th>\n",
       "      <td>Apcnt_1000008</td>\n",
       "      <td>3276.0</td>\n",
       "      <td>0.53845</td>\n",
       "      <td>3.1510</td>\n",
       "      <td>0.0</td>\n",
       "      <td>6.282</td>\n",
       "      <td>NaN</td>\n",
       "      <td>956940.0</td>\n",
       "      <td>NaN</td>\n",
       "      <td>192944.0</td>\n",
       "      <td>...</td>\n",
       "      <td>0.162965</td>\n",
       "      <td>18.18</td>\n",
       "      <td>0.791136</td>\n",
       "      <td>0.0</td>\n",
       "      <td>0.0</td>\n",
       "      <td>charge</td>\n",
       "      <td>NaN</td>\n",
       "      <td>1.513370</td>\n",
       "      <td>0.011640</td>\n",
       "      <td>yes</td>\n",
       "    </tr>\n",
       "    <tr>\n",
       "      <th>3</th>\n",
       "      <td>Apcnt_1000012</td>\n",
       "      <td>3372.0</td>\n",
       "      <td>0.17005</td>\n",
       "      <td>0.5050</td>\n",
       "      <td>0.0</td>\n",
       "      <td>0.000</td>\n",
       "      <td>192166.0</td>\n",
       "      <td>3044703.0</td>\n",
       "      <td>385499.0</td>\n",
       "      <td>3986472.0</td>\n",
       "      <td>...</td>\n",
       "      <td>0.488884</td>\n",
       "      <td>2.02</td>\n",
       "      <td>0.685168</td>\n",
       "      <td>NaN</td>\n",
       "      <td>0.0</td>\n",
       "      <td>charge</td>\n",
       "      <td>89.940100</td>\n",
       "      <td>0.664452</td>\n",
       "      <td>0.082729</td>\n",
       "      <td>no</td>\n",
       "    </tr>\n",
       "    <tr>\n",
       "      <th>4</th>\n",
       "      <td>Apcnt_1000016</td>\n",
       "      <td>3370.0</td>\n",
       "      <td>0.77270</td>\n",
       "      <td>1.1010</td>\n",
       "      <td>0.0</td>\n",
       "      <td>0.000</td>\n",
       "      <td>1556.0</td>\n",
       "      <td>214728.0</td>\n",
       "      <td>214728.0</td>\n",
       "      <td>1284089.0</td>\n",
       "      <td>...</td>\n",
       "      <td>0.275000</td>\n",
       "      <td>12.12</td>\n",
       "      <td>0.438168</td>\n",
       "      <td>0.0</td>\n",
       "      <td>0.0</td>\n",
       "      <td>charge</td>\n",
       "      <td>97.887502</td>\n",
       "      <td>1.427891</td>\n",
       "      <td>0.045630</td>\n",
       "      <td>no</td>\n",
       "    </tr>\n",
       "  </tbody>\n",
       "</table>\n",
       "<p>5 rows × 52 columns</p>\n",
       "</div>"
      ],
      "text/plain": [
       "    Applicant_ID  form_field1  form_field2  form_field3  form_field4  \\\n",
       "0  Apcnt_1000000       3436.0      0.28505       1.6560          0.0   \n",
       "1  Apcnt_1000004       3456.0      0.67400       0.2342          0.0   \n",
       "2  Apcnt_1000008       3276.0      0.53845       3.1510          0.0   \n",
       "3  Apcnt_1000012       3372.0      0.17005       0.5050          0.0   \n",
       "4  Apcnt_1000016       3370.0      0.77270       1.1010          0.0   \n",
       "\n",
       "   form_field5  form_field6  form_field7  form_field8  form_field9  ...  \\\n",
       "0        0.000          0.0   10689720.0     252072.0    4272776.0  ...   \n",
       "1        0.000          0.0     898979.0     497531.0    9073814.0  ...   \n",
       "2        6.282          NaN     956940.0          NaN     192944.0  ...   \n",
       "3        0.000     192166.0    3044703.0     385499.0    3986472.0  ...   \n",
       "4        0.000       1556.0     214728.0     214728.0    1284089.0  ...   \n",
       "\n",
       "   form_field42  form_field43  form_field44  form_field45  form_field46  \\\n",
       "0      0.392854          2.02      0.711632           0.0           0.0   \n",
       "1      0.314281          8.08      0.183584           NaN           0.0   \n",
       "2      0.162965         18.18      0.791136           0.0           0.0   \n",
       "3      0.488884          2.02      0.685168           NaN           0.0   \n",
       "4      0.275000         12.12      0.438168           0.0           0.0   \n",
       "\n",
       "   form_field47  form_field48  form_field49  form_field50  default_status  \n",
       "0        charge           NaN      1.129518      0.044335              no  \n",
       "1        charge    349.805730      1.620483      0.322436              no  \n",
       "2        charge           NaN      1.513370      0.011640             yes  \n",
       "3        charge     89.940100      0.664452      0.082729              no  \n",
       "4        charge     97.887502      1.427891      0.045630              no  \n",
       "\n",
       "[5 rows x 52 columns]"
      ]
     },
     "execution_count": 5,
     "metadata": {},
     "output_type": "execute_result"
    }
   ],
   "source": [
    "train.head()"
   ]
  },
  {
   "cell_type": "code",
   "execution_count": 6,
   "metadata": {},
   "outputs": [
    {
     "name": "stdout",
     "output_type": "stream",
     "text": [
      "<class 'pandas.core.frame.DataFrame'>\n",
      "RangeIndex: 56000 entries, 0 to 55999\n",
      "Data columns (total 52 columns):\n",
      " #   Column          Non-Null Count  Dtype  \n",
      "---  ------          --------------  -----  \n",
      " 0   Applicant_ID    56000 non-null  object \n",
      " 1   form_field1     53471 non-null  float64\n",
      " 2   form_field2     52156 non-null  float64\n",
      " 3   form_field3     55645 non-null  float64\n",
      " 4   form_field4     55645 non-null  float64\n",
      " 5   form_field5     55645 non-null  float64\n",
      " 6   form_field6     42640 non-null  float64\n",
      " 7   form_field7     50837 non-null  float64\n",
      " 8   form_field8     42640 non-null  float64\n",
      " 9   form_field9     47992 non-null  float64\n",
      " 10  form_field10    55645 non-null  float64\n",
      " 11  form_field11    24579 non-null  float64\n",
      " 12  form_field12    46105 non-null  float64\n",
      " 13  form_field13    50111 non-null  float64\n",
      " 14  form_field14    56000 non-null  int64  \n",
      " 15  form_field15    33525 non-null  float64\n",
      " 16  form_field16    42964 non-null  float64\n",
      " 17  form_field17    44849 non-null  float64\n",
      " 18  form_field18    45598 non-null  float64\n",
      " 19  form_field19    55996 non-null  float64\n",
      " 20  form_field20    55645 non-null  float64\n",
      " 21  form_field21    40146 non-null  float64\n",
      " 22  form_field22    35600 non-null  float64\n",
      " 23  form_field23    27877 non-null  float64\n",
      " 24  form_field24    42703 non-null  float64\n",
      " 25  form_field25    50550 non-null  float64\n",
      " 26  form_field26    48562 non-null  float64\n",
      " 27  form_field27    46701 non-null  float64\n",
      " 28  form_field28    55645 non-null  float64\n",
      " 29  form_field29    55645 non-null  float64\n",
      " 30  form_field30    30491 non-null  float64\n",
      " 31  form_field31    16592 non-null  float64\n",
      " 32  form_field32    50550 non-null  float64\n",
      " 33  form_field33    54744 non-null  float64\n",
      " 34  form_field34    55645 non-null  float64\n",
      " 35  form_field35    32852 non-null  float64\n",
      " 36  form_field36    54005 non-null  float64\n",
      " 37  form_field37    50550 non-null  float64\n",
      " 38  form_field38    55645 non-null  float64\n",
      " 39  form_field39    51789 non-null  float64\n",
      " 40  form_field40    12271 non-null  float64\n",
      " 41  form_field41    17771 non-null  float64\n",
      " 42  form_field42    54677 non-null  float64\n",
      " 43  form_field43    55432 non-null  float64\n",
      " 44  form_field44    50617 non-null  float64\n",
      " 45  form_field45    24683 non-null  float64\n",
      " 46  form_field46    40096 non-null  float64\n",
      " 47  form_field47    56000 non-null  object \n",
      " 48  form_field48    35111 non-null  float64\n",
      " 49  form_field49    55645 non-null  float64\n",
      " 50  form_field50    44944 non-null  float64\n",
      " 51  default_status  56000 non-null  object \n",
      "dtypes: float64(48), int64(1), object(3)\n",
      "memory usage: 22.2+ MB\n",
      "None\n"
     ]
    }
   ],
   "source": [
    "print(train.info())"
   ]
  },
  {
   "cell_type": "code",
   "execution_count": 7,
   "metadata": {},
   "outputs": [
    {
     "data": {
      "text/plain": [
       "(2, ['no', 'yes'])"
      ]
     },
     "execution_count": 7,
     "metadata": {},
     "output_type": "execute_result"
    }
   ],
   "source": [
    "train.default_status.nunique(), train.default_status.unique().tolist()"
   ]
  },
  {
   "cell_type": "code",
   "execution_count": 8,
   "metadata": {},
   "outputs": [
    {
     "data": {
      "text/plain": [
       "(2, ['charge', 'lending'])"
      ]
     },
     "execution_count": 8,
     "metadata": {},
     "output_type": "execute_result"
    }
   ],
   "source": [
    "train.form_field47.nunique(), train. form_field47.unique().tolist()"
   ]
  },
  {
   "cell_type": "code",
   "execution_count": 9,
   "metadata": {},
   "outputs": [],
   "source": [
    "train.default_status.replace( {'yes': 1,'no': 0}, inplace = True)\n",
    "train['form_field47'].replace({'charge': 1,'lending': 0},inplace = True)\n",
    "test['form_field47'].replace({'charge': 1,'lending': 0},inplace = True)"
   ]
  },
  {
   "cell_type": "code",
   "execution_count": 10,
   "metadata": {},
   "outputs": [],
   "source": [
    "#train_df = train.replace(np.nan, 0)\n",
    "#train_df.head()"
   ]
  },
  {
   "cell_type": "code",
   "execution_count": 11,
   "metadata": {},
   "outputs": [],
   "source": [
    "#test = test.replace(np.nan, 0)\n",
    "#test.head()"
   ]
  },
  {
   "cell_type": "markdown",
   "metadata": {},
   "source": [
    "## Data Preparation"
   ]
  },
  {
   "cell_type": "markdown",
   "metadata": {},
   "source": [
    "#### 1. Feature Selection"
   ]
  },
  {
   "cell_type": "code",
   "execution_count": 12,
   "metadata": {},
   "outputs": [],
   "source": [
    "features = train.select_dtypes(exclude = object).columns.drop(['default_status'])"
   ]
  },
  {
   "cell_type": "code",
   "execution_count": 13,
   "metadata": {},
   "outputs": [
    {
     "data": {
      "text/plain": [
       "Index(['form_field1', 'form_field2', 'form_field3', 'form_field4',\n",
       "       'form_field5', 'form_field6', 'form_field7', 'form_field8',\n",
       "       'form_field9', 'form_field10', 'form_field11', 'form_field12',\n",
       "       'form_field13', 'form_field14', 'form_field15', 'form_field16',\n",
       "       'form_field17', 'form_field18', 'form_field19', 'form_field20',\n",
       "       'form_field21', 'form_field22', 'form_field23', 'form_field24',\n",
       "       'form_field25', 'form_field26', 'form_field27', 'form_field28',\n",
       "       'form_field29', 'form_field30', 'form_field31', 'form_field32',\n",
       "       'form_field33', 'form_field34', 'form_field35', 'form_field36',\n",
       "       'form_field37', 'form_field38', 'form_field39', 'form_field40',\n",
       "       'form_field41', 'form_field42', 'form_field43', 'form_field44',\n",
       "       'form_field45', 'form_field46', 'form_field47', 'form_field48',\n",
       "       'form_field49', 'form_field50'],\n",
       "      dtype='object')"
      ]
     },
     "execution_count": 13,
     "metadata": {},
     "output_type": "execute_result"
    }
   ],
   "source": [
    "features"
   ]
  },
  {
   "cell_type": "markdown",
   "metadata": {},
   "source": [
    "## Algorithms Evaluation"
   ]
  },
  {
   "cell_type": "markdown",
   "metadata": {},
   "source": [
    "#### 1. Test options and evaluation metric"
   ]
  },
  {
   "cell_type": "code",
   "execution_count": 14,
   "metadata": {},
   "outputs": [],
   "source": [
    "X = train[features]\n",
    "y = train['default_status']"
   ]
  },
  {
   "cell_type": "code",
   "execution_count": 15,
   "metadata": {},
   "outputs": [],
   "source": [
    "def performance_metric(y, pred):\n",
    "    return roc_auc_score(y, pred, labels=[0, 1])"
   ]
  },
  {
   "cell_type": "code",
   "execution_count": 16,
   "metadata": {},
   "outputs": [],
   "source": [
    "num_of_folds = 5\n",
    "\n",
    "kfold = StratifiedKFold(num_of_folds)"
   ]
  },
  {
   "cell_type": "code",
   "execution_count": 17,
   "metadata": {},
   "outputs": [
    {
     "name": "stdout",
     "output_type": "stream",
     "text": [
      "0 Folds : 0.8354863407779555\n",
      "1 Folds : 0.8325957770283595\n",
      "2 Folds : 0.8377030618447612\n",
      "3 Folds : 0.8259184773427161\n",
      "4 Folds : 0.8440022181651847\n",
      "\n",
      "\n",
      "Average_result :  0.8351411750317953\n"
     ]
    }
   ],
   "source": [
    "\n",
    "result_list = []\n",
    "result= 0\n",
    "\n",
    "\n",
    "for i, (train_split,test_split) in enumerate(kfold.split(X, y)):\n",
    "    \n",
    "    x_train, y_train = X.loc[train_split, features], y.loc[train_split]\n",
    "    x_test, y_test = X.loc[test_split, features], y.loc[test_split]\n",
    "    \n",
    "    xgb_Model = xgb.XGBClassifier(objective ='binary:logistic', colsample_bytree = 0.3, learning_rate = 0.4, max_depth = 5,\n",
    "                                                   alpha = 10, n_estimators = 35)\n",
    "   \n",
    "    xgb_Model.fit( x_train, y_train,)\n",
    "    \n",
    "    y_test_predicted = xgb_Model.predict_proba(x_test)[:, 1]\n",
    "    roc_auc=performance_metric(y_test, y_test_predicted)\n",
    "    result_list.append(roc_auc)\n",
    "    result += roc_auc/num_of_folds\n",
    "    predicted_Y =  xgb_Model.predict_proba(test[features])[:, 1]\n",
    "   \n",
    "    print('{} Folds : {}'.format(i, roc_auc))\n",
    "\n",
    "print()\n",
    "print()\n",
    "print('Average_result : ',result )"
   ]
  },
  {
   "cell_type": "code",
   "execution_count": 28,
   "metadata": {},
   "outputs": [
    {
     "name": "stdout",
     "output_type": "stream",
     "text": [
      "0:\ttest: 0.7985595\tbest: 0.7985595 (0)\ttotal: 34ms\tremaining: 2m 16s\n",
      "100:\ttest: 0.8254345\tbest: 0.8254345 (100)\ttotal: 3.43s\tremaining: 2m 12s\n",
      "200:\ttest: 0.8293706\tbest: 0.8293706 (200)\ttotal: 7.03s\tremaining: 2m 12s\n",
      "300:\ttest: 0.8316713\tbest: 0.8316713 (300)\ttotal: 10.6s\tremaining: 2m 10s\n",
      "400:\ttest: 0.8332517\tbest: 0.8332517 (400)\ttotal: 13.8s\tremaining: 2m 4s\n",
      "500:\ttest: 0.8342362\tbest: 0.8342455 (497)\ttotal: 17.4s\tremaining: 2m 1s\n",
      "600:\ttest: 0.8352527\tbest: 0.8352604 (599)\ttotal: 20.9s\tremaining: 1m 58s\n",
      "700:\ttest: 0.8360072\tbest: 0.8360072 (700)\ttotal: 24.7s\tremaining: 1m 56s\n",
      "800:\ttest: 0.8364889\tbest: 0.8364898 (799)\ttotal: 27.7s\tremaining: 1m 50s\n",
      "900:\ttest: 0.8369889\tbest: 0.8369889 (900)\ttotal: 30.7s\tremaining: 1m 45s\n",
      "1000:\ttest: 0.8373658\tbest: 0.8373658 (1000)\ttotal: 33.8s\tremaining: 1m 41s\n",
      "1100:\ttest: 0.8377140\tbest: 0.8377140 (1100)\ttotal: 37.1s\tremaining: 1m 37s\n",
      "1200:\ttest: 0.8379048\tbest: 0.8379272 (1186)\ttotal: 40.6s\tremaining: 1m 34s\n",
      "1300:\ttest: 0.8381059\tbest: 0.8381121 (1298)\ttotal: 43.5s\tremaining: 1m 30s\n",
      "1400:\ttest: 0.8382561\tbest: 0.8382638 (1398)\ttotal: 46.5s\tremaining: 1m 26s\n",
      "1500:\ttest: 0.8384004\tbest: 0.8384029 (1499)\ttotal: 49.4s\tremaining: 1m 22s\n",
      "1600:\ttest: 0.8384707\tbest: 0.8384751 (1597)\ttotal: 52.4s\tremaining: 1m 18s\n",
      "1700:\ttest: 0.8385131\tbest: 0.8385223 (1694)\ttotal: 55.7s\tremaining: 1m 15s\n",
      "1800:\ttest: 0.8386213\tbest: 0.8386213 (1800)\ttotal: 58.8s\tremaining: 1m 11s\n",
      "1900:\ttest: 0.8386420\tbest: 0.8386503 (1871)\ttotal: 1m 1s\tremaining: 1m 8s\n",
      "2000:\ttest: 0.8386468\tbest: 0.8386716 (1967)\ttotal: 1m 4s\tremaining: 1m 4s\n",
      "2100:\ttest: 0.8386530\tbest: 0.8386716 (1967)\ttotal: 1m 7s\tremaining: 1m 1s\n",
      "2200:\ttest: 0.8387846\tbest: 0.8387846 (2200)\ttotal: 1m 11s\tremaining: 58.2s\n",
      "2300:\ttest: 0.8388116\tbest: 0.8388534 (2270)\ttotal: 1m 14s\tremaining: 54.9s\n",
      "2400:\ttest: 0.8389224\tbest: 0.8389372 (2385)\ttotal: 1m 17s\tremaining: 51.5s\n",
      "2500:\ttest: 0.8388966\tbest: 0.8389472 (2410)\ttotal: 1m 20s\tremaining: 48.1s\n",
      "2600:\ttest: 0.8388180\tbest: 0.8389472 (2410)\ttotal: 1m 23s\tremaining: 44.8s\n",
      "Stopped by overfitting detector  (200 iterations wait)\n",
      "\n",
      "bestTest = 0.8389471802\n",
      "bestIteration = 2410\n",
      "\n",
      "Shrink model to first 2411 iterations.\n",
      "Fold 0 : 0.8389471802432937\n",
      "0:\ttest: 0.7901427\tbest: 0.7901427 (0)\ttotal: 37.7ms\tremaining: 2m 30s\n",
      "100:\ttest: 0.8218604\tbest: 0.8218604 (100)\ttotal: 3.92s\tremaining: 2m 31s\n",
      "200:\ttest: 0.8270613\tbest: 0.8270613 (200)\ttotal: 6.94s\tremaining: 2m 11s\n",
      "300:\ttest: 0.8300992\tbest: 0.8300992 (300)\ttotal: 10s\tremaining: 2m 3s\n",
      "400:\ttest: 0.8319833\tbest: 0.8319833 (400)\ttotal: 13s\tremaining: 1m 56s\n",
      "500:\ttest: 0.8332776\tbest: 0.8332776 (500)\ttotal: 16s\tremaining: 1m 51s\n",
      "600:\ttest: 0.8341761\tbest: 0.8341761 (600)\ttotal: 19.4s\tremaining: 1m 49s\n",
      "700:\ttest: 0.8348879\tbest: 0.8348879 (700)\ttotal: 22.5s\tremaining: 1m 45s\n",
      "800:\ttest: 0.8353145\tbest: 0.8353186 (798)\ttotal: 25.5s\tremaining: 1m 41s\n",
      "900:\ttest: 0.8357448\tbest: 0.8357448 (900)\ttotal: 28.4s\tremaining: 1m 37s\n",
      "1000:\ttest: 0.8360753\tbest: 0.8360829 (996)\ttotal: 31.5s\tremaining: 1m 34s\n",
      "1100:\ttest: 0.8363904\tbest: 0.8363939 (1098)\ttotal: 34.9s\tremaining: 1m 31s\n",
      "1200:\ttest: 0.8366064\tbest: 0.8366154 (1199)\ttotal: 38.4s\tremaining: 1m 29s\n",
      "1300:\ttest: 0.8367898\tbest: 0.8367898 (1300)\ttotal: 41.9s\tremaining: 1m 26s\n",
      "1400:\ttest: 0.8369936\tbest: 0.8370022 (1399)\ttotal: 45.1s\tremaining: 1m 23s\n",
      "1500:\ttest: 0.8371672\tbest: 0.8371682 (1499)\ttotal: 48.1s\tremaining: 1m 20s\n",
      "1600:\ttest: 0.8372593\tbest: 0.8372668 (1588)\ttotal: 51.5s\tremaining: 1m 17s\n",
      "1700:\ttest: 0.8373263\tbest: 0.8373263 (1700)\ttotal: 54.5s\tremaining: 1m 13s\n",
      "1800:\ttest: 0.8374587\tbest: 0.8374823 (1776)\ttotal: 57.4s\tremaining: 1m 10s\n",
      "1900:\ttest: 0.8375997\tbest: 0.8375997 (1900)\ttotal: 1m\tremaining: 1m 6s\n",
      "2000:\ttest: 0.8376913\tbest: 0.8376930 (1999)\ttotal: 1m 3s\tremaining: 1m 3s\n",
      "2100:\ttest: 0.8377775\tbest: 0.8377860 (2092)\ttotal: 1m 6s\tremaining: 1m\n",
      "2200:\ttest: 0.8378567\tbest: 0.8378593 (2187)\ttotal: 1m 9s\tremaining: 57.1s\n",
      "2300:\ttest: 0.8378853\tbest: 0.8378853 (2300)\ttotal: 1m 12s\tremaining: 53.7s\n",
      "2400:\ttest: 0.8378853\tbest: 0.8378857 (2398)\ttotal: 1m 15s\tremaining: 50.4s\n",
      "2500:\ttest: 0.8378971\tbest: 0.8379338 (2459)\ttotal: 1m 18s\tremaining: 47.2s\n",
      "2600:\ttest: 0.8378534\tbest: 0.8379338 (2459)\ttotal: 1m 21s\tremaining: 44.1s\n",
      "Stopped by overfitting detector  (200 iterations wait)\n",
      "\n",
      "bestTest = 0.8379337974\n",
      "bestIteration = 2459\n",
      "\n",
      "Shrink model to first 2460 iterations.\n",
      "Fold 1 : 0.8379337974081834\n",
      "0:\ttest: 0.7855898\tbest: 0.7855898 (0)\ttotal: 63.8ms\tremaining: 4m 15s\n",
      "100:\ttest: 0.8274101\tbest: 0.8274101 (100)\ttotal: 3.39s\tremaining: 2m 10s\n",
      "200:\ttest: 0.8317299\tbest: 0.8317299 (200)\ttotal: 6.59s\tremaining: 2m 4s\n",
      "300:\ttest: 0.8346257\tbest: 0.8346257 (300)\ttotal: 9.71s\tremaining: 1m 59s\n",
      "400:\ttest: 0.8364897\tbest: 0.8364897 (400)\ttotal: 13s\tremaining: 1m 57s\n",
      "500:\ttest: 0.8380138\tbest: 0.8380138 (500)\ttotal: 16.3s\tremaining: 1m 53s\n",
      "600:\ttest: 0.8392212\tbest: 0.8392212 (600)\ttotal: 19.4s\tremaining: 1m 49s\n",
      "700:\ttest: 0.8400527\tbest: 0.8400541 (699)\ttotal: 22.7s\tremaining: 1m 46s\n",
      "800:\ttest: 0.8406155\tbest: 0.8406155 (800)\ttotal: 25.7s\tremaining: 1m 42s\n",
      "900:\ttest: 0.8412051\tbest: 0.8412051 (900)\ttotal: 29.1s\tremaining: 1m 40s\n",
      "1000:\ttest: 0.8417806\tbest: 0.8417806 (1000)\ttotal: 32.3s\tremaining: 1m 36s\n",
      "1100:\ttest: 0.8421870\tbest: 0.8421870 (1100)\ttotal: 35.3s\tremaining: 1m 32s\n",
      "1200:\ttest: 0.8425616\tbest: 0.8425661 (1199)\ttotal: 38.3s\tremaining: 1m 29s\n",
      "1300:\ttest: 0.8427983\tbest: 0.8428046 (1299)\ttotal: 41.4s\tremaining: 1m 25s\n",
      "1400:\ttest: 0.8430724\tbest: 0.8430724 (1400)\ttotal: 44.7s\tremaining: 1m 22s\n",
      "1500:\ttest: 0.8431967\tbest: 0.8431967 (1500)\ttotal: 47.8s\tremaining: 1m 19s\n",
      "1600:\ttest: 0.8432346\tbest: 0.8432346 (1600)\ttotal: 50.9s\tremaining: 1m 16s\n",
      "1700:\ttest: 0.8432725\tbest: 0.8432991 (1663)\ttotal: 54s\tremaining: 1m 12s\n",
      "1800:\ttest: 0.8433249\tbest: 0.8433249 (1800)\ttotal: 57s\tremaining: 1m 9s\n",
      "1900:\ttest: 0.8433381\tbest: 0.8433734 (1839)\ttotal: 1m\tremaining: 1m 6s\n",
      "2000:\ttest: 0.8433552\tbest: 0.8433734 (1839)\ttotal: 1m 3s\tremaining: 1m 3s\n",
      "2100:\ttest: 0.8434343\tbest: 0.8434368 (2092)\ttotal: 1m 6s\tremaining: 1m\n",
      "2200:\ttest: 0.8434193\tbest: 0.8434396 (2126)\ttotal: 1m 10s\tremaining: 57.4s\n",
      "2300:\ttest: 0.8433963\tbest: 0.8434719 (2271)\ttotal: 1m 13s\tremaining: 54s\n",
      "2400:\ttest: 0.8433879\tbest: 0.8434719 (2271)\ttotal: 1m 16s\tremaining: 51.1s\n",
      "Stopped by overfitting detector  (200 iterations wait)\n",
      "\n",
      "bestTest = 0.843471882\n",
      "bestIteration = 2271\n",
      "\n",
      "Shrink model to first 2272 iterations.\n",
      "Fold 2 : 0.8434718820103035\n",
      "0:\ttest: 0.7840712\tbest: 0.7840712 (0)\ttotal: 60.4ms\tremaining: 4m 1s\n",
      "100:\ttest: 0.8162561\tbest: 0.8162561 (100)\ttotal: 3.5s\tremaining: 2m 14s\n",
      "200:\ttest: 0.8207391\tbest: 0.8207391 (200)\ttotal: 6.71s\tremaining: 2m 6s\n",
      "300:\ttest: 0.8236496\tbest: 0.8236496 (300)\ttotal: 9.92s\tremaining: 2m 1s\n",
      "400:\ttest: 0.8253472\tbest: 0.8253472 (400)\ttotal: 13.4s\tremaining: 2m\n",
      "500:\ttest: 0.8269008\tbest: 0.8269008 (500)\ttotal: 16.4s\tremaining: 1m 54s\n",
      "600:\ttest: 0.8278854\tbest: 0.8278928 (598)\ttotal: 19.4s\tremaining: 1m 49s\n",
      "700:\ttest: 0.8288297\tbest: 0.8288297 (700)\ttotal: 22.5s\tremaining: 1m 45s\n",
      "800:\ttest: 0.8294360\tbest: 0.8294360 (800)\ttotal: 25.4s\tremaining: 1m 41s\n",
      "900:\ttest: 0.8300095\tbest: 0.8300117 (899)\ttotal: 28.7s\tremaining: 1m 38s\n",
      "1000:\ttest: 0.8305439\tbest: 0.8305439 (1000)\ttotal: 31.8s\tremaining: 1m 35s\n",
      "1100:\ttest: 0.8309495\tbest: 0.8309495 (1100)\ttotal: 34.9s\tremaining: 1m 31s\n",
      "1200:\ttest: 0.8312267\tbest: 0.8312267 (1200)\ttotal: 37.9s\tremaining: 1m 28s\n",
      "1300:\ttest: 0.8314255\tbest: 0.8314255 (1300)\ttotal: 40.9s\tremaining: 1m 24s\n",
      "1400:\ttest: 0.8316437\tbest: 0.8316437 (1400)\ttotal: 44.4s\tremaining: 1m 22s\n",
      "1500:\ttest: 0.8317705\tbest: 0.8317758 (1497)\ttotal: 47.8s\tremaining: 1m 19s\n",
      "1600:\ttest: 0.8319718\tbest: 0.8319804 (1580)\ttotal: 50.8s\tremaining: 1m 16s\n",
      "1700:\ttest: 0.8320576\tbest: 0.8320634 (1696)\ttotal: 54s\tremaining: 1m 12s\n",
      "1800:\ttest: 0.8321766\tbest: 0.8321775 (1791)\ttotal: 57.1s\tremaining: 1m 9s\n",
      "1900:\ttest: 0.8322327\tbest: 0.8322345 (1896)\ttotal: 1m\tremaining: 1m 7s\n",
      "2000:\ttest: 0.8322696\tbest: 0.8322967 (1967)\ttotal: 1m 3s\tremaining: 1m 3s\n",
      "2100:\ttest: 0.8322667\tbest: 0.8323036 (2018)\ttotal: 1m 6s\tremaining: 1m\n",
      "2200:\ttest: 0.8322856\tbest: 0.8323143 (2148)\ttotal: 1m 10s\tremaining: 58s\n",
      "2300:\ttest: 0.8323482\tbest: 0.8323613 (2294)\ttotal: 1m 14s\tremaining: 54.9s\n",
      "2400:\ttest: 0.8324505\tbest: 0.8324523 (2395)\ttotal: 1m 17s\tremaining: 51.9s\n",
      "2500:\ttest: 0.8325377\tbest: 0.8325444 (2488)\ttotal: 1m 21s\tremaining: 48.6s\n",
      "2600:\ttest: 0.8326053\tbest: 0.8326055 (2598)\ttotal: 1m 24s\tremaining: 45.2s\n",
      "2700:\ttest: 0.8325983\tbest: 0.8326569 (2627)\ttotal: 1m 27s\tremaining: 41.9s\n",
      "2800:\ttest: 0.8325018\tbest: 0.8326569 (2627)\ttotal: 1m 30s\tremaining: 38.6s\n",
      "Stopped by overfitting detector  (200 iterations wait)\n",
      "\n",
      "bestTest = 0.8326568611\n",
      "bestIteration = 2627\n",
      "\n",
      "Shrink model to first 2628 iterations.\n",
      "Fold 3 : 0.8326568610626182\n",
      "0:\ttest: 0.7953880\tbest: 0.7953880 (0)\ttotal: 63.2ms\tremaining: 4m 12s\n",
      "100:\ttest: 0.8366598\tbest: 0.8366598 (100)\ttotal: 3.3s\tremaining: 2m 7s\n",
      "200:\ttest: 0.8411145\tbest: 0.8411145 (200)\ttotal: 6.38s\tremaining: 2m\n",
      "300:\ttest: 0.8433342\tbest: 0.8433342 (300)\ttotal: 9.41s\tremaining: 1m 55s\n",
      "400:\ttest: 0.8448392\tbest: 0.8448392 (400)\ttotal: 12.3s\tremaining: 1m 50s\n",
      "500:\ttest: 0.8459594\tbest: 0.8459594 (500)\ttotal: 15.6s\tremaining: 1m 48s\n",
      "600:\ttest: 0.8468110\tbest: 0.8468110 (600)\ttotal: 18.7s\tremaining: 1m 45s\n",
      "700:\ttest: 0.8474539\tbest: 0.8474546 (699)\ttotal: 21.6s\tremaining: 1m 41s\n",
      "800:\ttest: 0.8479421\tbest: 0.8479421 (800)\ttotal: 24.5s\tremaining: 1m 37s\n",
      "900:\ttest: 0.8484037\tbest: 0.8484136 (897)\ttotal: 27.5s\tremaining: 1m 34s\n",
      "1000:\ttest: 0.8488208\tbest: 0.8488211 (999)\ttotal: 30.7s\tremaining: 1m 31s\n",
      "1100:\ttest: 0.8491675\tbest: 0.8491677 (1099)\ttotal: 33.8s\tremaining: 1m 28s\n",
      "1200:\ttest: 0.8493272\tbest: 0.8493289 (1195)\ttotal: 36.7s\tremaining: 1m 25s\n",
      "1300:\ttest: 0.8495031\tbest: 0.8495031 (1300)\ttotal: 39.6s\tremaining: 1m 22s\n",
      "1400:\ttest: 0.8495625\tbest: 0.8495746 (1314)\ttotal: 42.6s\tremaining: 1m 18s\n",
      "1500:\ttest: 0.8497685\tbest: 0.8497688 (1499)\ttotal: 45.5s\tremaining: 1m 15s\n",
      "1600:\ttest: 0.8498711\tbest: 0.8498733 (1589)\ttotal: 48.8s\tremaining: 1m 13s\n",
      "1700:\ttest: 0.8499814\tbest: 0.8500068 (1687)\ttotal: 51.7s\tremaining: 1m 9s\n",
      "1800:\ttest: 0.8500445\tbest: 0.8500445 (1800)\ttotal: 54.6s\tremaining: 1m 6s\n",
      "1900:\ttest: 0.8500808\tbest: 0.8500983 (1826)\ttotal: 57.6s\tremaining: 1m 3s\n",
      "2000:\ttest: 0.8501603\tbest: 0.8501603 (2000)\ttotal: 1m\tremaining: 1m\n",
      "2100:\ttest: 0.8502363\tbest: 0.8502399 (2094)\ttotal: 1m 4s\tremaining: 57.9s\n",
      "2200:\ttest: 0.8501803\tbest: 0.8502448 (2127)\ttotal: 1m 7s\tremaining: 54.8s\n",
      "2300:\ttest: 0.8501762\tbest: 0.8502448 (2127)\ttotal: 1m 10s\tremaining: 51.7s\n",
      "Stopped by overfitting detector  (200 iterations wait)\n",
      "\n",
      "bestTest = 0.8502447521\n",
      "bestIteration = 2127\n",
      "\n",
      "Shrink model to first 2128 iterations.\n",
      "Fold 4 : 0.8502447521292226\n",
      "\n",
      "\n",
      "Average_result :  0.8406508945707243\n"
     ]
    }
   ],
   "source": [
    "parameters = {'n_estimators': 4000,'learning_rate': 0.01,'objective': 'CrossEntropy',\n",
    "              'eval_metric':'AUC','random_seed': 2254,'early_stopping_rounds': 200,'use_best_model': True,}\n",
    "values = []\n",
    "result_list1 = []\n",
    "result1= 0\n",
    "\n",
    "for i, (train_split,test_split) in enumerate(kfold.split(X, y)):\n",
    "    \n",
    "    x_train, y_train = X.loc[train_split, features], y.loc[train_split]\n",
    "    x_test, y_test = X.loc[test_split, features], y.loc[test_split]\n",
    "    \n",
    "    \n",
    "    catB_Model = CatBoostClassifier(**parameters)\n",
    "\n",
    "    catB_Model.fit(x_train, y_train,eval_set=[(x_test,y_test)],verbose=100)\n",
    "    \n",
    "    y_test_predicted1= catB_Model.predict_proba(x_test)[:, 1]\n",
    "    roc_auc1=performance_metric(y_test, y_test_predicted1)\n",
    "    result_list1.append(roc_auc1)\n",
    "    result1 += roc_auc1/num_of_folds\n",
    "    \n",
    "    predicted_Y1 = catB_Model.predict_proba(test[features])[:, 1]\n",
    "    values.append(predicted_Y1)\n",
    "    print('Fold {} : {}'.format(i, roc_auc1))\n",
    "\n",
    "print()\n",
    "print()\n",
    "print('Average_result : ',result1 )"
   ]
  },
  {
   "cell_type": "markdown",
   "metadata": {},
   "source": [
    "## Model Finalization"
   ]
  },
  {
   "cell_type": "markdown",
   "metadata": {},
   "source": [
    "#### 1. Predictions on validation dataset"
   ]
  },
  {
   "cell_type": "code",
   "execution_count": 19,
   "metadata": {},
   "outputs": [
    {
     "data": {
      "text/plain": [
       "'5fold cross_validation,result:0.8408121271077278'"
      ]
     },
     "execution_count": 19,
     "metadata": {},
     "output_type": "execute_result"
    }
   ],
   "source": [
    "\"{}fold cross_validation,result:{}\".format(num_of_folds,result1)"
   ]
  },
  {
   "cell_type": "code",
   "execution_count": 20,
   "metadata": {},
   "outputs": [],
   "source": [
    "predicted_Y_df= pd.DataFrame(values).T"
   ]
  },
  {
   "cell_type": "code",
   "execution_count": 21,
   "metadata": {},
   "outputs": [],
   "source": [
    "predicted_Y_df.columns = ['fold_'+ str(i) for i in range(1, num_of_folds+ 1)]"
   ]
  },
  {
   "cell_type": "code",
   "execution_count": 22,
   "metadata": {},
   "outputs": [
    {
     "data": {
      "text/html": [
       "<div>\n",
       "<style scoped>\n",
       "    .dataframe tbody tr th:only-of-type {\n",
       "        vertical-align: middle;\n",
       "    }\n",
       "\n",
       "    .dataframe tbody tr th {\n",
       "        vertical-align: top;\n",
       "    }\n",
       "\n",
       "    .dataframe thead th {\n",
       "        text-align: right;\n",
       "    }\n",
       "</style>\n",
       "<table border=\"1\" class=\"dataframe\">\n",
       "  <thead>\n",
       "    <tr style=\"text-align: right;\">\n",
       "      <th></th>\n",
       "      <th>fold_1</th>\n",
       "      <th>fold_2</th>\n",
       "      <th>fold_3</th>\n",
       "      <th>fold_4</th>\n",
       "      <th>fold_5</th>\n",
       "    </tr>\n",
       "  </thead>\n",
       "  <tbody>\n",
       "    <tr>\n",
       "      <th>0</th>\n",
       "      <td>0.339230</td>\n",
       "      <td>0.281797</td>\n",
       "      <td>0.324865</td>\n",
       "      <td>0.285715</td>\n",
       "      <td>0.263713</td>\n",
       "    </tr>\n",
       "    <tr>\n",
       "      <th>1</th>\n",
       "      <td>0.392309</td>\n",
       "      <td>0.363056</td>\n",
       "      <td>0.461989</td>\n",
       "      <td>0.356928</td>\n",
       "      <td>0.389761</td>\n",
       "    </tr>\n",
       "    <tr>\n",
       "      <th>2</th>\n",
       "      <td>0.328001</td>\n",
       "      <td>0.389073</td>\n",
       "      <td>0.387181</td>\n",
       "      <td>0.408335</td>\n",
       "      <td>0.332204</td>\n",
       "    </tr>\n",
       "    <tr>\n",
       "      <th>3</th>\n",
       "      <td>0.709937</td>\n",
       "      <td>0.754311</td>\n",
       "      <td>0.717963</td>\n",
       "      <td>0.769209</td>\n",
       "      <td>0.718489</td>\n",
       "    </tr>\n",
       "    <tr>\n",
       "      <th>4</th>\n",
       "      <td>0.157444</td>\n",
       "      <td>0.185968</td>\n",
       "      <td>0.164520</td>\n",
       "      <td>0.155695</td>\n",
       "      <td>0.181729</td>\n",
       "    </tr>\n",
       "  </tbody>\n",
       "</table>\n",
       "</div>"
      ],
      "text/plain": [
       "     fold_1    fold_2    fold_3    fold_4    fold_5\n",
       "0  0.339230  0.281797  0.324865  0.285715  0.263713\n",
       "1  0.392309  0.363056  0.461989  0.356928  0.389761\n",
       "2  0.328001  0.389073  0.387181  0.408335  0.332204\n",
       "3  0.709937  0.754311  0.717963  0.769209  0.718489\n",
       "4  0.157444  0.185968  0.164520  0.155695  0.181729"
      ]
     },
     "execution_count": 22,
     "metadata": {},
     "output_type": "execute_result"
    }
   ],
   "source": [
    "predicted_Y_df.head()"
   ]
  },
  {
   "cell_type": "code",
   "execution_count": 30,
   "metadata": {},
   "outputs": [],
   "source": [
    "SampleSubmission['default_status']=np.mean(values,axis = 0)"
   ]
  },
  {
   "cell_type": "code",
   "execution_count": 31,
   "metadata": {},
   "outputs": [],
   "source": [
    "SampleSubmission.to_csv('sample_submissionsH.csv', index=False)"
   ]
  },
  {
   "cell_type": "code",
   "execution_count": null,
   "metadata": {},
   "outputs": [],
   "source": []
  }
 ],
 "metadata": {
  "kernelspec": {
   "display_name": "Python 3",
   "language": "python",
   "name": "python3"
  },
  "language_info": {
   "codemirror_mode": {
    "name": "ipython",
    "version": 3
   },
   "file_extension": ".py",
   "mimetype": "text/x-python",
   "name": "python",
   "nbconvert_exporter": "python",
   "pygments_lexer": "ipython3",
   "version": "3.7.6"
  }
 },
 "nbformat": 4,
 "nbformat_minor": 4
}
